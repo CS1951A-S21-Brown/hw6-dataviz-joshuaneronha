{
 "cells": [
  {
   "cell_type": "code",
   "execution_count": 125,
   "id": "equal-protein",
   "metadata": {},
   "outputs": [],
   "source": [
    "import numpy as np\n",
    "import pandas as pd\n",
    "import country_converter as coco\n",
    "\n",
    "cc = coco.CountryConverter()"
   ]
  },
  {
   "cell_type": "code",
   "execution_count": 126,
   "id": "active-methodology",
   "metadata": {},
   "outputs": [],
   "source": [
    "football_df = pd.read_csv('/Users/joshuaneronha/Documents/Brown/Semester 6/CSCI 1951a/hw6-dataviz-joshuaneronha/data/football.csv')"
   ]
  },
  {
   "cell_type": "code",
   "execution_count": 127,
   "id": "sapphire-carnival",
   "metadata": {
    "scrolled": true
   },
   "outputs": [
    {
     "data": {
      "text/html": [
       "<div>\n",
       "<style scoped>\n",
       "    .dataframe tbody tr th:only-of-type {\n",
       "        vertical-align: middle;\n",
       "    }\n",
       "\n",
       "    .dataframe tbody tr th {\n",
       "        vertical-align: top;\n",
       "    }\n",
       "\n",
       "    .dataframe thead th {\n",
       "        text-align: right;\n",
       "    }\n",
       "</style>\n",
       "<table border=\"1\" class=\"dataframe\">\n",
       "  <thead>\n",
       "    <tr style=\"text-align: right;\">\n",
       "      <th></th>\n",
       "      <th>date</th>\n",
       "      <th>home_team</th>\n",
       "      <th>away_team</th>\n",
       "      <th>home_score</th>\n",
       "      <th>away_score</th>\n",
       "      <th>tournament</th>\n",
       "      <th>city</th>\n",
       "      <th>country</th>\n",
       "      <th>neutral</th>\n",
       "    </tr>\n",
       "  </thead>\n",
       "  <tbody>\n",
       "    <tr>\n",
       "      <th>0</th>\n",
       "      <td>1872-11-30</td>\n",
       "      <td>Scotland</td>\n",
       "      <td>England</td>\n",
       "      <td>0</td>\n",
       "      <td>0</td>\n",
       "      <td>Friendly</td>\n",
       "      <td>Glasgow</td>\n",
       "      <td>Scotland</td>\n",
       "      <td>False</td>\n",
       "    </tr>\n",
       "    <tr>\n",
       "      <th>1</th>\n",
       "      <td>1873-03-08</td>\n",
       "      <td>England</td>\n",
       "      <td>Scotland</td>\n",
       "      <td>4</td>\n",
       "      <td>2</td>\n",
       "      <td>Friendly</td>\n",
       "      <td>London</td>\n",
       "      <td>England</td>\n",
       "      <td>False</td>\n",
       "    </tr>\n",
       "    <tr>\n",
       "      <th>2</th>\n",
       "      <td>1874-03-07</td>\n",
       "      <td>Scotland</td>\n",
       "      <td>England</td>\n",
       "      <td>2</td>\n",
       "      <td>1</td>\n",
       "      <td>Friendly</td>\n",
       "      <td>Glasgow</td>\n",
       "      <td>Scotland</td>\n",
       "      <td>False</td>\n",
       "    </tr>\n",
       "    <tr>\n",
       "      <th>3</th>\n",
       "      <td>1875-03-06</td>\n",
       "      <td>England</td>\n",
       "      <td>Scotland</td>\n",
       "      <td>2</td>\n",
       "      <td>2</td>\n",
       "      <td>Friendly</td>\n",
       "      <td>London</td>\n",
       "      <td>England</td>\n",
       "      <td>False</td>\n",
       "    </tr>\n",
       "    <tr>\n",
       "      <th>4</th>\n",
       "      <td>1876-03-04</td>\n",
       "      <td>Scotland</td>\n",
       "      <td>England</td>\n",
       "      <td>3</td>\n",
       "      <td>0</td>\n",
       "      <td>Friendly</td>\n",
       "      <td>Glasgow</td>\n",
       "      <td>Scotland</td>\n",
       "      <td>False</td>\n",
       "    </tr>\n",
       "  </tbody>\n",
       "</table>\n",
       "</div>"
      ],
      "text/plain": [
       "         date home_team away_team  home_score  away_score tournament     city  \\\n",
       "0  1872-11-30  Scotland   England           0           0   Friendly  Glasgow   \n",
       "1  1873-03-08   England  Scotland           4           2   Friendly   London   \n",
       "2  1874-03-07  Scotland   England           2           1   Friendly  Glasgow   \n",
       "3  1875-03-06   England  Scotland           2           2   Friendly   London   \n",
       "4  1876-03-04  Scotland   England           3           0   Friendly  Glasgow   \n",
       "\n",
       "    country  neutral  \n",
       "0  Scotland    False  \n",
       "1   England    False  \n",
       "2  Scotland    False  \n",
       "3   England    False  \n",
       "4  Scotland    False  "
      ]
     },
     "execution_count": 127,
     "metadata": {},
     "output_type": "execute_result"
    }
   ],
   "source": [
    "football_df.head()"
   ]
  },
  {
   "cell_type": "code",
   "execution_count": null,
   "id": "joint-thanksgiving",
   "metadata": {},
   "outputs": [],
   "source": []
  },
  {
   "cell_type": "code",
   "execution_count": 128,
   "id": "canadian-blogger",
   "metadata": {},
   "outputs": [],
   "source": [
    "football_df = pd.read_csv('/Users/joshuaneronha/Documents/Brown/Semester 6/CSCI 1951a/hw6-dataviz-joshuaneronha/data/football.csv')\n",
    "football_df['home_win'] = football_df['home_score'] > football_df['away_score']\n",
    "football_df['away_win'] = football_df['away_score'] > football_df['home_score']"
   ]
  },
  {
   "cell_type": "code",
   "execution_count": 129,
   "id": "joint-labor",
   "metadata": {},
   "outputs": [
    {
     "data": {
      "text/html": [
       "<div>\n",
       "<style scoped>\n",
       "    .dataframe tbody tr th:only-of-type {\n",
       "        vertical-align: middle;\n",
       "    }\n",
       "\n",
       "    .dataframe tbody tr th {\n",
       "        vertical-align: top;\n",
       "    }\n",
       "\n",
       "    .dataframe thead th {\n",
       "        text-align: right;\n",
       "    }\n",
       "</style>\n",
       "<table border=\"1\" class=\"dataframe\">\n",
       "  <thead>\n",
       "    <tr style=\"text-align: right;\">\n",
       "      <th></th>\n",
       "      <th>date</th>\n",
       "      <th>home_team</th>\n",
       "      <th>away_team</th>\n",
       "      <th>home_score</th>\n",
       "      <th>away_score</th>\n",
       "      <th>tournament</th>\n",
       "      <th>city</th>\n",
       "      <th>country</th>\n",
       "      <th>neutral</th>\n",
       "      <th>home_win</th>\n",
       "      <th>away_win</th>\n",
       "    </tr>\n",
       "  </thead>\n",
       "  <tbody>\n",
       "    <tr>\n",
       "      <th>0</th>\n",
       "      <td>1872-11-30</td>\n",
       "      <td>Scotland</td>\n",
       "      <td>England</td>\n",
       "      <td>0</td>\n",
       "      <td>0</td>\n",
       "      <td>Friendly</td>\n",
       "      <td>Glasgow</td>\n",
       "      <td>Scotland</td>\n",
       "      <td>False</td>\n",
       "      <td>False</td>\n",
       "      <td>False</td>\n",
       "    </tr>\n",
       "    <tr>\n",
       "      <th>1</th>\n",
       "      <td>1873-03-08</td>\n",
       "      <td>England</td>\n",
       "      <td>Scotland</td>\n",
       "      <td>4</td>\n",
       "      <td>2</td>\n",
       "      <td>Friendly</td>\n",
       "      <td>London</td>\n",
       "      <td>England</td>\n",
       "      <td>False</td>\n",
       "      <td>True</td>\n",
       "      <td>False</td>\n",
       "    </tr>\n",
       "    <tr>\n",
       "      <th>2</th>\n",
       "      <td>1874-03-07</td>\n",
       "      <td>Scotland</td>\n",
       "      <td>England</td>\n",
       "      <td>2</td>\n",
       "      <td>1</td>\n",
       "      <td>Friendly</td>\n",
       "      <td>Glasgow</td>\n",
       "      <td>Scotland</td>\n",
       "      <td>False</td>\n",
       "      <td>True</td>\n",
       "      <td>False</td>\n",
       "    </tr>\n",
       "    <tr>\n",
       "      <th>3</th>\n",
       "      <td>1875-03-06</td>\n",
       "      <td>England</td>\n",
       "      <td>Scotland</td>\n",
       "      <td>2</td>\n",
       "      <td>2</td>\n",
       "      <td>Friendly</td>\n",
       "      <td>London</td>\n",
       "      <td>England</td>\n",
       "      <td>False</td>\n",
       "      <td>False</td>\n",
       "      <td>False</td>\n",
       "    </tr>\n",
       "    <tr>\n",
       "      <th>4</th>\n",
       "      <td>1876-03-04</td>\n",
       "      <td>Scotland</td>\n",
       "      <td>England</td>\n",
       "      <td>3</td>\n",
       "      <td>0</td>\n",
       "      <td>Friendly</td>\n",
       "      <td>Glasgow</td>\n",
       "      <td>Scotland</td>\n",
       "      <td>False</td>\n",
       "      <td>True</td>\n",
       "      <td>False</td>\n",
       "    </tr>\n",
       "    <tr>\n",
       "      <th>...</th>\n",
       "      <td>...</td>\n",
       "      <td>...</td>\n",
       "      <td>...</td>\n",
       "      <td>...</td>\n",
       "      <td>...</td>\n",
       "      <td>...</td>\n",
       "      <td>...</td>\n",
       "      <td>...</td>\n",
       "      <td>...</td>\n",
       "      <td>...</td>\n",
       "      <td>...</td>\n",
       "    </tr>\n",
       "    <tr>\n",
       "      <th>41581</th>\n",
       "      <td>2020-01-10</td>\n",
       "      <td>Barbados</td>\n",
       "      <td>Canada</td>\n",
       "      <td>1</td>\n",
       "      <td>4</td>\n",
       "      <td>Friendly</td>\n",
       "      <td>Irvine</td>\n",
       "      <td>United States</td>\n",
       "      <td>True</td>\n",
       "      <td>False</td>\n",
       "      <td>True</td>\n",
       "    </tr>\n",
       "    <tr>\n",
       "      <th>41582</th>\n",
       "      <td>2020-01-12</td>\n",
       "      <td>Kosovo</td>\n",
       "      <td>Sweden</td>\n",
       "      <td>0</td>\n",
       "      <td>1</td>\n",
       "      <td>Friendly</td>\n",
       "      <td>Doha</td>\n",
       "      <td>Qatar</td>\n",
       "      <td>True</td>\n",
       "      <td>False</td>\n",
       "      <td>True</td>\n",
       "    </tr>\n",
       "    <tr>\n",
       "      <th>41583</th>\n",
       "      <td>2020-01-15</td>\n",
       "      <td>Canada</td>\n",
       "      <td>Iceland</td>\n",
       "      <td>0</td>\n",
       "      <td>1</td>\n",
       "      <td>Friendly</td>\n",
       "      <td>Irvine</td>\n",
       "      <td>United States</td>\n",
       "      <td>True</td>\n",
       "      <td>False</td>\n",
       "      <td>True</td>\n",
       "    </tr>\n",
       "    <tr>\n",
       "      <th>41584</th>\n",
       "      <td>2020-01-19</td>\n",
       "      <td>El Salvador</td>\n",
       "      <td>Iceland</td>\n",
       "      <td>0</td>\n",
       "      <td>1</td>\n",
       "      <td>Friendly</td>\n",
       "      <td>Carson</td>\n",
       "      <td>United States</td>\n",
       "      <td>True</td>\n",
       "      <td>False</td>\n",
       "      <td>True</td>\n",
       "    </tr>\n",
       "    <tr>\n",
       "      <th>41585</th>\n",
       "      <td>2020-02-01</td>\n",
       "      <td>United States</td>\n",
       "      <td>Costa Rica</td>\n",
       "      <td>1</td>\n",
       "      <td>0</td>\n",
       "      <td>Friendly</td>\n",
       "      <td>Carson</td>\n",
       "      <td>United States</td>\n",
       "      <td>False</td>\n",
       "      <td>True</td>\n",
       "      <td>False</td>\n",
       "    </tr>\n",
       "  </tbody>\n",
       "</table>\n",
       "<p>41586 rows × 11 columns</p>\n",
       "</div>"
      ],
      "text/plain": [
       "             date      home_team   away_team  home_score  away_score  \\\n",
       "0      1872-11-30       Scotland     England           0           0   \n",
       "1      1873-03-08        England    Scotland           4           2   \n",
       "2      1874-03-07       Scotland     England           2           1   \n",
       "3      1875-03-06        England    Scotland           2           2   \n",
       "4      1876-03-04       Scotland     England           3           0   \n",
       "...           ...            ...         ...         ...         ...   \n",
       "41581  2020-01-10       Barbados      Canada           1           4   \n",
       "41582  2020-01-12         Kosovo      Sweden           0           1   \n",
       "41583  2020-01-15         Canada     Iceland           0           1   \n",
       "41584  2020-01-19    El Salvador     Iceland           0           1   \n",
       "41585  2020-02-01  United States  Costa Rica           1           0   \n",
       "\n",
       "      tournament     city        country  neutral  home_win  away_win  \n",
       "0       Friendly  Glasgow       Scotland    False     False     False  \n",
       "1       Friendly   London        England    False      True     False  \n",
       "2       Friendly  Glasgow       Scotland    False      True     False  \n",
       "3       Friendly   London        England    False     False     False  \n",
       "4       Friendly  Glasgow       Scotland    False      True     False  \n",
       "...          ...      ...            ...      ...       ...       ...  \n",
       "41581   Friendly   Irvine  United States     True     False      True  \n",
       "41582   Friendly     Doha          Qatar     True     False      True  \n",
       "41583   Friendly   Irvine  United States     True     False      True  \n",
       "41584   Friendly   Carson  United States     True     False      True  \n",
       "41585   Friendly   Carson  United States    False      True     False  \n",
       "\n",
       "[41586 rows x 11 columns]"
      ]
     },
     "execution_count": 129,
     "metadata": {},
     "output_type": "execute_result"
    }
   ],
   "source": [
    "football_df"
   ]
  },
  {
   "cell_type": "code",
   "execution_count": 130,
   "id": "broad-economics",
   "metadata": {},
   "outputs": [],
   "source": [
    "home_wins = football_df[['home_team','home_win']].groupby('home_team').sum()\n",
    "away_wins = football_df[['away_team','away_win']].groupby('away_team').sum()"
   ]
  },
  {
   "cell_type": "code",
   "execution_count": 131,
   "id": "vanilla-display",
   "metadata": {},
   "outputs": [],
   "source": [
    "home_wins['total_games_home'] = football_df[['home_team','home_win']].groupby('home_team').count()\n",
    "away_wins['total_games_away'] = football_df[['away_team','away_win']].groupby('away_team').count()"
   ]
  },
  {
   "cell_type": "code",
   "execution_count": 132,
   "id": "prescribed-adapter",
   "metadata": {},
   "outputs": [],
   "source": [
    "joint_wins = home_wins.join(away_wins)\n",
    "joint_wins['total_wins'] = joint_wins['home_win'] + joint_wins['away_win']\n",
    "joint_wins['total_games'] = joint_wins['total_games_home'] + joint_wins['total_games_away']\n",
    "joint_wins['win_percent'] = 100 * joint_wins['total_wins'] / joint_wins['total_games']"
   ]
  },
  {
   "cell_type": "code",
   "execution_count": 133,
   "id": "partial-semester",
   "metadata": {},
   "outputs": [],
   "source": [
    "joint_wins = joint_wins.reset_index()\n",
    "sorted_df = joint_wins.sort_values(by = 'win_percent', ascending = False)"
   ]
  },
  {
   "cell_type": "code",
   "execution_count": 134,
   "id": "organizational-reporter",
   "metadata": {},
   "outputs": [],
   "source": [
    "uk_df = sorted_df.loc[(sorted_df['home_team'] == ('Scotland')) | (sorted_df['home_team'] == ('England')) | (sorted_df['home_team'] == ('Wales')) | (sorted_df['home_team'] == ('Northern Ireland')) | (sorted_df['home_team'] == ('Shetland')) | (sorted_df['home_team'] == ('Ynys Môn'))].sum()"
   ]
  },
  {
   "cell_type": "code",
   "execution_count": 135,
   "id": "imported-secretariat",
   "metadata": {},
   "outputs": [
    {
     "data": {
      "text/html": [
       "<div>\n",
       "<style scoped>\n",
       "    .dataframe tbody tr th:only-of-type {\n",
       "        vertical-align: middle;\n",
       "    }\n",
       "\n",
       "    .dataframe tbody tr th {\n",
       "        vertical-align: top;\n",
       "    }\n",
       "\n",
       "    .dataframe thead th {\n",
       "        text-align: right;\n",
       "    }\n",
       "</style>\n",
       "<table border=\"1\" class=\"dataframe\">\n",
       "  <thead>\n",
       "    <tr style=\"text-align: right;\">\n",
       "      <th></th>\n",
       "      <th>home_team</th>\n",
       "      <th>home_win</th>\n",
       "      <th>total_games_home</th>\n",
       "      <th>away_win</th>\n",
       "      <th>total_games_away</th>\n",
       "      <th>total_wins</th>\n",
       "      <th>total_games</th>\n",
       "      <th>win_percent</th>\n",
       "    </tr>\n",
       "  </thead>\n",
       "  <tbody>\n",
       "    <tr>\n",
       "      <th>195</th>\n",
       "      <td>Northern Ireland</td>\n",
       "      <td>106</td>\n",
       "      <td>312</td>\n",
       "      <td>59.0</td>\n",
       "      <td>332.0</td>\n",
       "      <td>165.0</td>\n",
       "      <td>644.0</td>\n",
       "      <td>25.621118</td>\n",
       "    </tr>\n",
       "  </tbody>\n",
       "</table>\n",
       "</div>"
      ],
      "text/plain": [
       "            home_team  home_win  total_games_home  away_win  total_games_away  \\\n",
       "195  Northern Ireland       106               312      59.0             332.0   \n",
       "\n",
       "     total_wins  total_games  win_percent  \n",
       "195       165.0        644.0    25.621118  "
      ]
     },
     "execution_count": 135,
     "metadata": {},
     "output_type": "execute_result"
    }
   ],
   "source": [
    "sorted_df.loc[(sorted_df['home_team'] == ('Northern Ireland'))]"
   ]
  },
  {
   "cell_type": "code",
   "execution_count": 136,
   "id": "employed-brunswick",
   "metadata": {},
   "outputs": [
    {
     "data": {
      "text/html": [
       "<div>\n",
       "<style scoped>\n",
       "    .dataframe tbody tr th:only-of-type {\n",
       "        vertical-align: middle;\n",
       "    }\n",
       "\n",
       "    .dataframe tbody tr th {\n",
       "        vertical-align: top;\n",
       "    }\n",
       "\n",
       "    .dataframe thead th {\n",
       "        text-align: right;\n",
       "    }\n",
       "</style>\n",
       "<table border=\"1\" class=\"dataframe\">\n",
       "  <thead>\n",
       "    <tr style=\"text-align: right;\">\n",
       "      <th></th>\n",
       "      <th>home_team</th>\n",
       "      <th>home_win</th>\n",
       "      <th>total_games_home</th>\n",
       "      <th>away_win</th>\n",
       "      <th>total_games_away</th>\n",
       "      <th>total_wins</th>\n",
       "      <th>total_games</th>\n",
       "      <th>win_percent</th>\n",
       "    </tr>\n",
       "  </thead>\n",
       "  <tbody>\n",
       "    <tr>\n",
       "      <th>84</th>\n",
       "      <td>England</td>\n",
       "      <td>308</td>\n",
       "      <td>498</td>\n",
       "      <td>264.0</td>\n",
       "      <td>511.0</td>\n",
       "      <td>572.0</td>\n",
       "      <td>1009.0</td>\n",
       "      <td>56.689792</td>\n",
       "    </tr>\n",
       "    <tr>\n",
       "      <th>301</th>\n",
       "      <td>Ynys Môn</td>\n",
       "      <td>18</td>\n",
       "      <td>29</td>\n",
       "      <td>14.0</td>\n",
       "      <td>32.0</td>\n",
       "      <td>32.0</td>\n",
       "      <td>61.0</td>\n",
       "      <td>52.459016</td>\n",
       "    </tr>\n",
       "    <tr>\n",
       "      <th>238</th>\n",
       "      <td>Scotland</td>\n",
       "      <td>215</td>\n",
       "      <td>380</td>\n",
       "      <td>156.0</td>\n",
       "      <td>401.0</td>\n",
       "      <td>371.0</td>\n",
       "      <td>781.0</td>\n",
       "      <td>47.503201</td>\n",
       "    </tr>\n",
       "    <tr>\n",
       "      <th>242</th>\n",
       "      <td>Shetland</td>\n",
       "      <td>12</td>\n",
       "      <td>22</td>\n",
       "      <td>6.0</td>\n",
       "      <td>29.0</td>\n",
       "      <td>18.0</td>\n",
       "      <td>51.0</td>\n",
       "      <td>35.294118</td>\n",
       "    </tr>\n",
       "    <tr>\n",
       "      <th>294</th>\n",
       "      <td>Wales</td>\n",
       "      <td>123</td>\n",
       "      <td>321</td>\n",
       "      <td>85.0</td>\n",
       "      <td>335.0</td>\n",
       "      <td>208.0</td>\n",
       "      <td>656.0</td>\n",
       "      <td>31.707317</td>\n",
       "    </tr>\n",
       "    <tr>\n",
       "      <th>195</th>\n",
       "      <td>Northern Ireland</td>\n",
       "      <td>106</td>\n",
       "      <td>312</td>\n",
       "      <td>59.0</td>\n",
       "      <td>332.0</td>\n",
       "      <td>165.0</td>\n",
       "      <td>644.0</td>\n",
       "      <td>25.621118</td>\n",
       "    </tr>\n",
       "  </tbody>\n",
       "</table>\n",
       "</div>"
      ],
      "text/plain": [
       "            home_team  home_win  total_games_home  away_win  total_games_away  \\\n",
       "84            England       308               498     264.0             511.0   \n",
       "301          Ynys Môn        18                29      14.0              32.0   \n",
       "238          Scotland       215               380     156.0             401.0   \n",
       "242          Shetland        12                22       6.0              29.0   \n",
       "294             Wales       123               321      85.0             335.0   \n",
       "195  Northern Ireland       106               312      59.0             332.0   \n",
       "\n",
       "     total_wins  total_games  win_percent  \n",
       "84        572.0       1009.0    56.689792  \n",
       "301        32.0         61.0    52.459016  \n",
       "238       371.0        781.0    47.503201  \n",
       "242        18.0         51.0    35.294118  \n",
       "294       208.0        656.0    31.707317  \n",
       "195       165.0        644.0    25.621118  "
      ]
     },
     "execution_count": 136,
     "metadata": {},
     "output_type": "execute_result"
    }
   ],
   "source": [
    "sorted_df.loc[(sorted_df['home_team'] == ('Scotland')) | (sorted_df['home_team'] == ('England')) | (sorted_df['home_team'] == ('Wales')) | (sorted_df['home_team'] == ('Northern Ireland')) | (sorted_df['home_team'] == ('Shetland')) | (sorted_df['home_team'] == ('Ynys Môn'))]"
   ]
  },
  {
   "cell_type": "code",
   "execution_count": 137,
   "id": "religious-preparation",
   "metadata": {},
   "outputs": [],
   "source": [
    "uk_df['win_percent'] = 100 *uk_df['total_wins'] / uk_df['total_games']\n",
    "uk_df['country_code'] = 'GBR'\n",
    "uk_df['home_team'] = 'United Kingdom'"
   ]
  },
  {
   "cell_type": "code",
   "execution_count": 138,
   "id": "coated-remainder",
   "metadata": {},
   "outputs": [
    {
     "data": {
      "text/plain": [
       "home_team           United Kingdom\n",
       "home_win                       782\n",
       "total_games_home              1562\n",
       "away_win                     584.0\n",
       "total_games_away            1640.0\n",
       "total_wins                  1366.0\n",
       "total_games                 3202.0\n",
       "win_percent              42.660837\n",
       "country_code                   GBR\n",
       "dtype: object"
      ]
     },
     "execution_count": 138,
     "metadata": {},
     "output_type": "execute_result"
    }
   ],
   "source": [
    "uk_df"
   ]
  },
  {
   "cell_type": "code",
   "execution_count": 139,
   "id": "incorrect-camera",
   "metadata": {},
   "outputs": [],
   "source": [
    "sorted_df = sorted_df.append(uk_df,ignore_index = True)\n"
   ]
  },
  {
   "cell_type": "code",
   "execution_count": 140,
   "id": "german-edmonton",
   "metadata": {},
   "outputs": [
    {
     "data": {
      "text/html": [
       "<div>\n",
       "<style scoped>\n",
       "    .dataframe tbody tr th:only-of-type {\n",
       "        vertical-align: middle;\n",
       "    }\n",
       "\n",
       "    .dataframe tbody tr th {\n",
       "        vertical-align: top;\n",
       "    }\n",
       "\n",
       "    .dataframe thead th {\n",
       "        text-align: right;\n",
       "    }\n",
       "</style>\n",
       "<table border=\"1\" class=\"dataframe\">\n",
       "  <thead>\n",
       "    <tr style=\"text-align: right;\">\n",
       "      <th></th>\n",
       "      <th>home_team</th>\n",
       "      <th>home_win</th>\n",
       "      <th>total_games_home</th>\n",
       "      <th>away_win</th>\n",
       "      <th>total_games_away</th>\n",
       "      <th>total_wins</th>\n",
       "      <th>total_games</th>\n",
       "      <th>win_percent</th>\n",
       "      <th>country_code</th>\n",
       "    </tr>\n",
       "  </thead>\n",
       "  <tbody>\n",
       "    <tr>\n",
       "      <th>48</th>\n",
       "      <td>Scotland</td>\n",
       "      <td>215</td>\n",
       "      <td>380</td>\n",
       "      <td>156.0</td>\n",
       "      <td>401.0</td>\n",
       "      <td>371.0</td>\n",
       "      <td>781.0</td>\n",
       "      <td>47.503201</td>\n",
       "      <td>NaN</td>\n",
       "    </tr>\n",
       "  </tbody>\n",
       "</table>\n",
       "</div>"
      ],
      "text/plain": [
       "   home_team  home_win  total_games_home  away_win  total_games_away  \\\n",
       "48  Scotland       215               380     156.0             401.0   \n",
       "\n",
       "    total_wins  total_games  win_percent country_code  \n",
       "48       371.0        781.0    47.503201          NaN  "
      ]
     },
     "execution_count": 140,
     "metadata": {},
     "output_type": "execute_result"
    }
   ],
   "source": [
    "sorted_df.loc[(sorted_df['home_team'] == ('Scotland'))]"
   ]
  },
  {
   "cell_type": "code",
   "execution_count": 142,
   "id": "artistic-absence",
   "metadata": {},
   "outputs": [],
   "source": [
    "sorted_df = sorted_df.drop([48,25,15,139,171,211])"
   ]
  },
  {
   "cell_type": "code",
   "execution_count": 143,
   "id": "upset-democrat",
   "metadata": {},
   "outputs": [
    {
     "data": {
      "text/html": [
       "<div>\n",
       "<style scoped>\n",
       "    .dataframe tbody tr th:only-of-type {\n",
       "        vertical-align: middle;\n",
       "    }\n",
       "\n",
       "    .dataframe tbody tr th {\n",
       "        vertical-align: top;\n",
       "    }\n",
       "\n",
       "    .dataframe thead th {\n",
       "        text-align: right;\n",
       "    }\n",
       "</style>\n",
       "<table border=\"1\" class=\"dataframe\">\n",
       "  <thead>\n",
       "    <tr style=\"text-align: right;\">\n",
       "      <th></th>\n",
       "      <th>home_team</th>\n",
       "      <th>home_win</th>\n",
       "      <th>total_games_home</th>\n",
       "      <th>away_win</th>\n",
       "      <th>total_games_away</th>\n",
       "      <th>total_wins</th>\n",
       "      <th>total_games</th>\n",
       "      <th>win_percent</th>\n",
       "      <th>country_code</th>\n",
       "    </tr>\n",
       "  </thead>\n",
       "  <tbody>\n",
       "  </tbody>\n",
       "</table>\n",
       "</div>"
      ],
      "text/plain": [
       "Empty DataFrame\n",
       "Columns: [home_team, home_win, total_games_home, away_win, total_games_away, total_wins, total_games, win_percent, country_code]\n",
       "Index: []"
      ]
     },
     "execution_count": 143,
     "metadata": {},
     "output_type": "execute_result"
    }
   ],
   "source": [
    "sorted_df.loc[(sorted_df['home_team'] == ('Scotland'))]"
   ]
  },
  {
   "cell_type": "code",
   "execution_count": 146,
   "id": "coral-familiar",
   "metadata": {},
   "outputs": [],
   "source": [
    "limited_df = sorted_df[sorted_df['total_games'] > 50]"
   ]
  },
  {
   "cell_type": "code",
   "execution_count": 151,
   "id": "compound-venture",
   "metadata": {
    "scrolled": true
   },
   "outputs": [
    {
     "name": "stderr",
     "output_type": "stream",
     "text": [
      "Basque Country not found in regex\n",
      "Tahiti not found in regex\n",
      "German DR not found in regex\n",
      "Yugoslavia not found in regex\n",
      "Vietnam Republic not found in regex\n",
      "Zanzibar not found in regex\n",
      "/Users/joshuaneronha/.conda/envs/cs1951a/lib/python3.7/site-packages/ipykernel_launcher.py:1: SettingWithCopyWarning: \n",
      "A value is trying to be set on a copy of a slice from a DataFrame.\n",
      "Try using .loc[row_indexer,col_indexer] = value instead\n",
      "\n",
      "See the caveats in the documentation: https://pandas.pydata.org/pandas-docs/stable/user_guide/indexing.html#returning-a-view-versus-a-copy\n",
      "  \"\"\"Entry point for launching an IPython kernel.\n"
     ]
    }
   ],
   "source": [
    "limited_df['country_code'] = limited_df['home_team'].apply(lambda x: coco.convert(names = x, to = 'ISO3'))"
   ]
  },
  {
   "cell_type": "code",
   "execution_count": 152,
   "id": "absent-ladder",
   "metadata": {},
   "outputs": [
    {
     "data": {
      "text/html": [
       "<div>\n",
       "<style scoped>\n",
       "    .dataframe tbody tr th:only-of-type {\n",
       "        vertical-align: middle;\n",
       "    }\n",
       "\n",
       "    .dataframe tbody tr th {\n",
       "        vertical-align: top;\n",
       "    }\n",
       "\n",
       "    .dataframe thead th {\n",
       "        text-align: right;\n",
       "    }\n",
       "</style>\n",
       "<table border=\"1\" class=\"dataframe\">\n",
       "  <thead>\n",
       "    <tr style=\"text-align: right;\">\n",
       "      <th></th>\n",
       "      <th>home_team</th>\n",
       "      <th>home_win</th>\n",
       "      <th>total_games_home</th>\n",
       "      <th>away_win</th>\n",
       "      <th>total_games_away</th>\n",
       "      <th>total_wins</th>\n",
       "      <th>total_games</th>\n",
       "      <th>win_percent</th>\n",
       "      <th>country_code</th>\n",
       "    </tr>\n",
       "  </thead>\n",
       "  <tbody>\n",
       "    <tr>\n",
       "      <th>2</th>\n",
       "      <td>Jersey</td>\n",
       "      <td>38</td>\n",
       "      <td>48</td>\n",
       "      <td>17.0</td>\n",
       "      <td>34.0</td>\n",
       "      <td>55.0</td>\n",
       "      <td>82.0</td>\n",
       "      <td>67.073171</td>\n",
       "      <td>JEY</td>\n",
       "    </tr>\n",
       "    <tr>\n",
       "      <th>5</th>\n",
       "      <td>Basque Country</td>\n",
       "      <td>21</td>\n",
       "      <td>32</td>\n",
       "      <td>16.0</td>\n",
       "      <td>25.0</td>\n",
       "      <td>37.0</td>\n",
       "      <td>57.0</td>\n",
       "      <td>64.912281</td>\n",
       "      <td>not found</td>\n",
       "    </tr>\n",
       "    <tr>\n",
       "      <th>6</th>\n",
       "      <td>Brazil</td>\n",
       "      <td>404</td>\n",
       "      <td>568</td>\n",
       "      <td>221.0</td>\n",
       "      <td>413.0</td>\n",
       "      <td>625.0</td>\n",
       "      <td>981.0</td>\n",
       "      <td>63.710499</td>\n",
       "      <td>BRA</td>\n",
       "    </tr>\n",
       "    <tr>\n",
       "      <th>12</th>\n",
       "      <td>Spain</td>\n",
       "      <td>245</td>\n",
       "      <td>359</td>\n",
       "      <td>161.0</td>\n",
       "      <td>335.0</td>\n",
       "      <td>406.0</td>\n",
       "      <td>694.0</td>\n",
       "      <td>58.501441</td>\n",
       "      <td>ESP</td>\n",
       "    </tr>\n",
       "    <tr>\n",
       "      <th>13</th>\n",
       "      <td>Germany</td>\n",
       "      <td>317</td>\n",
       "      <td>506</td>\n",
       "      <td>238.0</td>\n",
       "      <td>443.0</td>\n",
       "      <td>555.0</td>\n",
       "      <td>949.0</td>\n",
       "      <td>58.482613</td>\n",
       "      <td>DEU</td>\n",
       "    </tr>\n",
       "    <tr>\n",
       "      <th>...</th>\n",
       "      <td>...</td>\n",
       "      <td>...</td>\n",
       "      <td>...</td>\n",
       "      <td>...</td>\n",
       "      <td>...</td>\n",
       "      <td>...</td>\n",
       "      <td>...</td>\n",
       "      <td>...</td>\n",
       "      <td>...</td>\n",
       "    </tr>\n",
       "    <tr>\n",
       "      <th>289</th>\n",
       "      <td>Anguilla</td>\n",
       "      <td>2</td>\n",
       "      <td>21</td>\n",
       "      <td>1.0</td>\n",
       "      <td>40.0</td>\n",
       "      <td>3.0</td>\n",
       "      <td>61.0</td>\n",
       "      <td>4.918033</td>\n",
       "      <td>AIA</td>\n",
       "    </tr>\n",
       "    <tr>\n",
       "      <th>290</th>\n",
       "      <td>Djibouti</td>\n",
       "      <td>4</td>\n",
       "      <td>41</td>\n",
       "      <td>0.0</td>\n",
       "      <td>47.0</td>\n",
       "      <td>4.0</td>\n",
       "      <td>88.0</td>\n",
       "      <td>4.545455</td>\n",
       "      <td>DJI</td>\n",
       "    </tr>\n",
       "    <tr>\n",
       "      <th>291</th>\n",
       "      <td>Andorra</td>\n",
       "      <td>6</td>\n",
       "      <td>83</td>\n",
       "      <td>0.0</td>\n",
       "      <td>81.0</td>\n",
       "      <td>6.0</td>\n",
       "      <td>164.0</td>\n",
       "      <td>3.658537</td>\n",
       "      <td>AND</td>\n",
       "    </tr>\n",
       "    <tr>\n",
       "      <th>292</th>\n",
       "      <td>San Marino</td>\n",
       "      <td>1</td>\n",
       "      <td>83</td>\n",
       "      <td>0.0</td>\n",
       "      <td>80.0</td>\n",
       "      <td>1.0</td>\n",
       "      <td>163.0</td>\n",
       "      <td>0.613497</td>\n",
       "      <td>SMR</td>\n",
       "    </tr>\n",
       "    <tr>\n",
       "      <th>308</th>\n",
       "      <td>United Kingdom</td>\n",
       "      <td>782</td>\n",
       "      <td>1562</td>\n",
       "      <td>584.0</td>\n",
       "      <td>1640.0</td>\n",
       "      <td>1366.0</td>\n",
       "      <td>3202.0</td>\n",
       "      <td>42.660837</td>\n",
       "      <td>GBR</td>\n",
       "    </tr>\n",
       "  </tbody>\n",
       "</table>\n",
       "<p>213 rows × 9 columns</p>\n",
       "</div>"
      ],
      "text/plain": [
       "          home_team  home_win  total_games_home  away_win  total_games_away  \\\n",
       "2            Jersey        38                48      17.0              34.0   \n",
       "5    Basque Country        21                32      16.0              25.0   \n",
       "6            Brazil       404               568     221.0             413.0   \n",
       "12            Spain       245               359     161.0             335.0   \n",
       "13          Germany       317               506     238.0             443.0   \n",
       "..              ...       ...               ...       ...               ...   \n",
       "289        Anguilla         2                21       1.0              40.0   \n",
       "290        Djibouti         4                41       0.0              47.0   \n",
       "291         Andorra         6                83       0.0              81.0   \n",
       "292      San Marino         1                83       0.0              80.0   \n",
       "308  United Kingdom       782              1562     584.0            1640.0   \n",
       "\n",
       "     total_wins  total_games  win_percent country_code  \n",
       "2          55.0         82.0    67.073171          JEY  \n",
       "5          37.0         57.0    64.912281    not found  \n",
       "6         625.0        981.0    63.710499          BRA  \n",
       "12        406.0        694.0    58.501441          ESP  \n",
       "13        555.0        949.0    58.482613          DEU  \n",
       "..          ...          ...          ...          ...  \n",
       "289         3.0         61.0     4.918033          AIA  \n",
       "290         4.0         88.0     4.545455          DJI  \n",
       "291         6.0        164.0     3.658537          AND  \n",
       "292         1.0        163.0     0.613497          SMR  \n",
       "308      1366.0       3202.0    42.660837          GBR  \n",
       "\n",
       "[213 rows x 9 columns]"
      ]
     },
     "execution_count": 152,
     "metadata": {},
     "output_type": "execute_result"
    }
   ],
   "source": [
    "limited_df"
   ]
  },
  {
   "cell_type": "code",
   "execution_count": 153,
   "id": "celtic-wireless",
   "metadata": {},
   "outputs": [],
   "source": [
    "limited_df = limited_df[limited_df['country_code'] != 'not found']"
   ]
  },
  {
   "cell_type": "code",
   "execution_count": 157,
   "id": "existing-malpractice",
   "metadata": {},
   "outputs": [],
   "source": [
    "limited_df[['home_team','country_code','win_percent']].to_csv('/Users/joshuaneronha/Documents/Brown/Semester 6/CSCI 1951a/hw6-dataviz-joshuaneronha/data/football_clean_q2.csv',header = 'true', index = False, float_format='%.1f')"
   ]
  },
  {
   "cell_type": "markdown",
   "id": "charitable-stocks",
   "metadata": {},
   "source": [
    "<h1>question 1</h1>"
   ]
  },
  {
   "cell_type": "code",
   "execution_count": 163,
   "id": "potential-civilization",
   "metadata": {},
   "outputs": [],
   "source": [
    "football_df['date'] = football_df['date'].map(lambda x: x[0:4])"
   ]
  },
  {
   "cell_type": "code",
   "execution_count": 184,
   "id": "coupled-dover",
   "metadata": {},
   "outputs": [],
   "source": [
    "cleaned_date = football_df.groupby('date').count()['tournament'].sort_index()"
   ]
  },
  {
   "cell_type": "code",
   "execution_count": 187,
   "id": "historical-worcester",
   "metadata": {},
   "outputs": [],
   "source": [
    "cleaned_date.to_csv('/Users/joshuaneronha/Documents/Brown/Semester 6/CSCI 1951a/hw6-dataviz-joshuaneronha/data/football_clean_q1.csv',header = 'true', index = True)"
   ]
  },
  {
   "cell_type": "code",
   "execution_count": 186,
   "id": "smooth-surrey",
   "metadata": {},
   "outputs": [
    {
     "data": {
      "text/plain": [
       "date\n",
       "1872       1\n",
       "1873       1\n",
       "1874       1\n",
       "1875       1\n",
       "1876       2\n",
       "        ... \n",
       "2016     926\n",
       "2017     958\n",
       "2018     905\n",
       "2019    1155\n",
       "2020       7\n",
       "Name: tournament, Length: 149, dtype: int64"
      ]
     },
     "execution_count": 186,
     "metadata": {},
     "output_type": "execute_result"
    }
   ],
   "source": [
    "cleaned_date"
   ]
  },
  {
   "cell_type": "markdown",
   "id": "secure-viking",
   "metadata": {},
   "source": [
    "<h2>question 3</h2>"
   ]
  },
  {
   "cell_type": "code",
   "execution_count": 374,
   "id": "radical-failing",
   "metadata": {},
   "outputs": [],
   "source": [
    "football_df = pd.read_csv('/Users/joshuaneronha/Documents/Brown/Semester 6/CSCI 1951a/hw6-dataviz-joshuaneronha/data/football.csv')\n",
    "football_df['home_win'] = football_df['home_score'] > football_df['away_score']\n",
    "football_df['away_win'] = football_df['away_score'] > football_df['home_score']\n",
    "football_df['date'] = football_df['date'].str.slice(stop=4)"
   ]
  },
  {
   "cell_type": "code",
   "execution_count": 375,
   "id": "functioning-athens",
   "metadata": {},
   "outputs": [],
   "source": [
    "football_df = football_df[((football_df['date'] == '2014') | (football_df['date'] == '2018') | (football_df['date'] == '2013') | (football_df['date'] == '2017')) & ((football_df['tournament'] == 'FIFA World Cup') | (football_df['tournament'] == 'FIFA World Cup qualification')) ]"
   ]
  },
  {
   "cell_type": "code",
   "execution_count": 376,
   "id": "opposed-phoenix",
   "metadata": {},
   "outputs": [],
   "source": [
    "football_df['score_diff_h'] = football_df['home_score'] - football_df['away_score']\n",
    "football_df['score_diff_a'] = -1*football_df['home_score'] + football_df['away_score']"
   ]
  },
  {
   "cell_type": "code",
   "execution_count": 377,
   "id": "complimentary-revelation",
   "metadata": {},
   "outputs": [],
   "source": [
    "home_wins = football_df[['date','home_team','home_win','away_team','score_diff_h']].groupby('home_team').mean()\n",
    "away_wins = football_df[['date','home_team','home_win','away_team','score_diff_a']].groupby('away_team').mean()"
   ]
  },
  {
   "cell_type": "code",
   "execution_count": 378,
   "id": "hairy-colonial",
   "metadata": {},
   "outputs": [
    {
     "data": {
      "text/html": [
       "<div>\n",
       "<style scoped>\n",
       "    .dataframe tbody tr th:only-of-type {\n",
       "        vertical-align: middle;\n",
       "    }\n",
       "\n",
       "    .dataframe tbody tr th {\n",
       "        vertical-align: top;\n",
       "    }\n",
       "\n",
       "    .dataframe thead th {\n",
       "        text-align: right;\n",
       "    }\n",
       "</style>\n",
       "<table border=\"1\" class=\"dataframe\">\n",
       "  <thead>\n",
       "    <tr style=\"text-align: right;\">\n",
       "      <th></th>\n",
       "      <th>home_win</th>\n",
       "      <th>score_diff_h</th>\n",
       "    </tr>\n",
       "    <tr>\n",
       "      <th>home_team</th>\n",
       "      <th></th>\n",
       "      <th></th>\n",
       "    </tr>\n",
       "  </thead>\n",
       "  <tbody>\n",
       "    <tr>\n",
       "      <th>Albania</th>\n",
       "      <td>0.250000</td>\n",
       "      <td>0.000000</td>\n",
       "    </tr>\n",
       "    <tr>\n",
       "      <th>Algeria</th>\n",
       "      <td>0.666667</td>\n",
       "      <td>1.000000</td>\n",
       "    </tr>\n",
       "    <tr>\n",
       "      <th>Andorra</th>\n",
       "      <td>0.166667</td>\n",
       "      <td>-1.500000</td>\n",
       "    </tr>\n",
       "    <tr>\n",
       "      <th>Angola</th>\n",
       "      <td>0.500000</td>\n",
       "      <td>1.500000</td>\n",
       "    </tr>\n",
       "    <tr>\n",
       "      <th>Argentina</th>\n",
       "      <td>0.583333</td>\n",
       "      <td>0.583333</td>\n",
       "    </tr>\n",
       "    <tr>\n",
       "      <th>...</th>\n",
       "      <td>...</td>\n",
       "      <td>...</td>\n",
       "    </tr>\n",
       "    <tr>\n",
       "      <th>Uzbekistan</th>\n",
       "      <td>0.600000</td>\n",
       "      <td>1.200000</td>\n",
       "    </tr>\n",
       "    <tr>\n",
       "      <th>Venezuela</th>\n",
       "      <td>0.285714</td>\n",
       "      <td>0.142857</td>\n",
       "    </tr>\n",
       "    <tr>\n",
       "      <th>Wales</th>\n",
       "      <td>0.400000</td>\n",
       "      <td>-0.600000</td>\n",
       "    </tr>\n",
       "    <tr>\n",
       "      <th>Zambia</th>\n",
       "      <td>0.500000</td>\n",
       "      <td>1.500000</td>\n",
       "    </tr>\n",
       "    <tr>\n",
       "      <th>Zimbabwe</th>\n",
       "      <td>0.000000</td>\n",
       "      <td>-1.000000</td>\n",
       "    </tr>\n",
       "  </tbody>\n",
       "</table>\n",
       "<p>133 rows × 2 columns</p>\n",
       "</div>"
      ],
      "text/plain": [
       "            home_win  score_diff_h\n",
       "home_team                         \n",
       "Albania     0.250000      0.000000\n",
       "Algeria     0.666667      1.000000\n",
       "Andorra     0.166667     -1.500000\n",
       "Angola      0.500000      1.500000\n",
       "Argentina   0.583333      0.583333\n",
       "...              ...           ...\n",
       "Uzbekistan  0.600000      1.200000\n",
       "Venezuela   0.285714      0.142857\n",
       "Wales       0.400000     -0.600000\n",
       "Zambia      0.500000      1.500000\n",
       "Zimbabwe    0.000000     -1.000000\n",
       "\n",
       "[133 rows x 2 columns]"
      ]
     },
     "execution_count": 378,
     "metadata": {},
     "output_type": "execute_result"
    }
   ],
   "source": [
    "home_wins"
   ]
  },
  {
   "cell_type": "markdown",
   "id": "eligible-harmony",
   "metadata": {},
   "source": [
    "**measures**\n",
    "* total number of games played (done)\n",
    "* win percent (done)\n",
    "* average win margin\n"
   ]
  },
  {
   "cell_type": "code",
   "execution_count": 379,
   "id": "raised-charter",
   "metadata": {},
   "outputs": [],
   "source": [
    "home_count = football_df[['date','home_team','home_win','away_team','score_diff_h']].groupby('home_team').count()['date']\n",
    "away_count = football_df[['date','home_team','home_win','away_team','score_diff_a']].groupby('away_team').count()['date']"
   ]
  },
  {
   "cell_type": "code",
   "execution_count": 380,
   "id": "painful-politics",
   "metadata": {},
   "outputs": [
    {
     "data": {
      "text/plain": [
       "home_team\n",
       "Albania        4\n",
       "Algeria        6\n",
       "Andorra        6\n",
       "Angola         2\n",
       "Argentina     12\n",
       "              ..\n",
       "Uzbekistan     5\n",
       "Venezuela      7\n",
       "Wales          5\n",
       "Zambia         4\n",
       "Zimbabwe       2\n",
       "Name: date, Length: 133, dtype: int64"
      ]
     },
     "execution_count": 380,
     "metadata": {},
     "output_type": "execute_result"
    }
   ],
   "source": [
    "home_count"
   ]
  },
  {
   "cell_type": "code",
   "execution_count": 381,
   "id": "likely-toilet",
   "metadata": {},
   "outputs": [],
   "source": [
    "stats_table = home_wins.join(home_count).join(away_wins,rsuffix='away').join(away_count,rsuffix='away')"
   ]
  },
  {
   "cell_type": "code",
   "execution_count": 382,
   "id": "tough-memorial",
   "metadata": {},
   "outputs": [],
   "source": [
    "stats_table['win_percent'] = ((stats_table['home_win'] * stats_table['date']) + (stats_table['home_winaway'] * stats_table['dateaway'])) / (stats_table['date'] + stats_table['dateaway'])\n",
    "stats_table['margin'] = ((stats_table['score_diff_h'] * stats_table['date']) + (stats_table['score_diff_a'] * stats_table['dateaway'])) / (stats_table['date'] + stats_table['dateaway'])\n",
    "stats_table['total_games'] = stats_table['date'] + stats_table['dateaway']"
   ]
  },
  {
   "cell_type": "code",
   "execution_count": 383,
   "id": "linear-blowing",
   "metadata": {},
   "outputs": [],
   "source": [
    "stats_table = stats_table[['win_percent','margin','total_games']]"
   ]
  },
  {
   "cell_type": "code",
   "execution_count": 384,
   "id": "iraqi-guard",
   "metadata": {},
   "outputs": [
    {
     "data": {
      "text/html": [
       "<div>\n",
       "<style scoped>\n",
       "    .dataframe tbody tr th:only-of-type {\n",
       "        vertical-align: middle;\n",
       "    }\n",
       "\n",
       "    .dataframe tbody tr th {\n",
       "        vertical-align: top;\n",
       "    }\n",
       "\n",
       "    .dataframe thead th {\n",
       "        text-align: right;\n",
       "    }\n",
       "</style>\n",
       "<table border=\"1\" class=\"dataframe\">\n",
       "  <thead>\n",
       "    <tr style=\"text-align: right;\">\n",
       "      <th></th>\n",
       "      <th>win_percent</th>\n",
       "      <th>margin</th>\n",
       "      <th>total_games</th>\n",
       "    </tr>\n",
       "    <tr>\n",
       "      <th>home_team</th>\n",
       "      <th></th>\n",
       "      <th></th>\n",
       "      <th></th>\n",
       "    </tr>\n",
       "  </thead>\n",
       "  <tbody>\n",
       "    <tr>\n",
       "      <th>Albania</th>\n",
       "      <td>0.416667</td>\n",
       "      <td>-0.250000</td>\n",
       "      <td>12</td>\n",
       "    </tr>\n",
       "    <tr>\n",
       "      <th>Algeria</th>\n",
       "      <td>0.642857</td>\n",
       "      <td>0.285714</td>\n",
       "      <td>14</td>\n",
       "    </tr>\n",
       "    <tr>\n",
       "      <th>Andorra</th>\n",
       "      <td>0.583333</td>\n",
       "      <td>-2.166667</td>\n",
       "      <td>12</td>\n",
       "    </tr>\n",
       "    <tr>\n",
       "      <th>Angola</th>\n",
       "      <td>0.500000</td>\n",
       "      <td>0.500000</td>\n",
       "      <td>4</td>\n",
       "    </tr>\n",
       "    <tr>\n",
       "      <th>Argentina</th>\n",
       "      <td>0.458333</td>\n",
       "      <td>0.375000</td>\n",
       "      <td>24</td>\n",
       "    </tr>\n",
       "    <tr>\n",
       "      <th>...</th>\n",
       "      <td>...</td>\n",
       "      <td>...</td>\n",
       "      <td>...</td>\n",
       "    </tr>\n",
       "    <tr>\n",
       "      <th>Uzbekistan</th>\n",
       "      <td>0.700000</td>\n",
       "      <td>0.100000</td>\n",
       "      <td>10</td>\n",
       "    </tr>\n",
       "    <tr>\n",
       "      <th>Venezuela</th>\n",
       "      <td>0.384615</td>\n",
       "      <td>-0.461538</td>\n",
       "      <td>13</td>\n",
       "    </tr>\n",
       "    <tr>\n",
       "      <th>Wales</th>\n",
       "      <td>0.250000</td>\n",
       "      <td>0.000000</td>\n",
       "      <td>12</td>\n",
       "    </tr>\n",
       "    <tr>\n",
       "      <th>Zambia</th>\n",
       "      <td>0.500000</td>\n",
       "      <td>0.625000</td>\n",
       "      <td>8</td>\n",
       "    </tr>\n",
       "    <tr>\n",
       "      <th>Zimbabwe</th>\n",
       "      <td>0.500000</td>\n",
       "      <td>-1.250000</td>\n",
       "      <td>4</td>\n",
       "    </tr>\n",
       "  </tbody>\n",
       "</table>\n",
       "<p>133 rows × 3 columns</p>\n",
       "</div>"
      ],
      "text/plain": [
       "            win_percent    margin  total_games\n",
       "home_team                                     \n",
       "Albania        0.416667 -0.250000           12\n",
       "Algeria        0.642857  0.285714           14\n",
       "Andorra        0.583333 -2.166667           12\n",
       "Angola         0.500000  0.500000            4\n",
       "Argentina      0.458333  0.375000           24\n",
       "...                 ...       ...          ...\n",
       "Uzbekistan     0.700000  0.100000           10\n",
       "Venezuela      0.384615 -0.461538           13\n",
       "Wales          0.250000  0.000000           12\n",
       "Zambia         0.500000  0.625000            8\n",
       "Zimbabwe       0.500000 -1.250000            4\n",
       "\n",
       "[133 rows x 3 columns]"
      ]
     },
     "execution_count": 384,
     "metadata": {},
     "output_type": "execute_result"
    }
   ],
   "source": [
    "stats_table"
   ]
  },
  {
   "cell_type": "code",
   "execution_count": 385,
   "id": "scientific-thailand",
   "metadata": {},
   "outputs": [],
   "source": [
    "new_df = football_df.join(stats_table, on = 'home_team').join(stats_table, on = 'away_team', rsuffix = '_away')"
   ]
  },
  {
   "cell_type": "code",
   "execution_count": 386,
   "id": "committed-fifteen",
   "metadata": {},
   "outputs": [],
   "source": [
    "home_str = new_df[['home_team','win_percent_away']].groupby('home_team').mean()\n",
    "away_str = new_df[['away_team','win_percent']].groupby('away_team').mean()"
   ]
  },
  {
   "cell_type": "code",
   "execution_count": null,
   "id": "heard-witness",
   "metadata": {},
   "outputs": [],
   "source": []
  },
  {
   "cell_type": "code",
   "execution_count": 387,
   "id": "brutal-character",
   "metadata": {},
   "outputs": [],
   "source": [
    "str_table = home_str.join(home_count).join(away_str,rsuffix='away').join(away_count,rsuffix='away')"
   ]
  },
  {
   "cell_type": "code",
   "execution_count": 388,
   "id": "immune-church",
   "metadata": {},
   "outputs": [],
   "source": [
    "str_table['opp_str'] = ((str_table['win_percent_away'] * str_table['date']) + (str_table['win_percent'] * str_table['dateaway']))/((str_table['date'] + str_table['dateaway']))"
   ]
  },
  {
   "cell_type": "code",
   "execution_count": 389,
   "id": "positive-gallery",
   "metadata": {},
   "outputs": [],
   "source": [
    "str_table = str_table['opp_str']"
   ]
  },
  {
   "cell_type": "code",
   "execution_count": 416,
   "id": "amateur-spare",
   "metadata": {},
   "outputs": [],
   "source": [
    "comb_table = stats_table.join(str_table)"
   ]
  },
  {
   "cell_type": "code",
   "execution_count": 417,
   "id": "bizarre-america",
   "metadata": {},
   "outputs": [],
   "source": [
    "offset = comb_table['margin'].min()"
   ]
  },
  {
   "cell_type": "code",
   "execution_count": 418,
   "id": "painful-memory",
   "metadata": {},
   "outputs": [
    {
     "data": {
      "text/plain": [
       "-0.2651372864110109"
      ]
     },
     "execution_count": 418,
     "metadata": {},
     "output_type": "execute_result"
    }
   ],
   "source": [
    "comb_table['margin'].mean()"
   ]
  },
  {
   "cell_type": "code",
   "execution_count": 419,
   "id": "administrative-worst",
   "metadata": {},
   "outputs": [
    {
     "data": {
      "text/plain": [
       "8.833333333333332"
      ]
     },
     "execution_count": 419,
     "metadata": {},
     "output_type": "execute_result"
    }
   ],
   "source": [
    "3 - offset"
   ]
  },
  {
   "cell_type": "code",
   "execution_count": 420,
   "id": "typical-island",
   "metadata": {},
   "outputs": [],
   "source": [
    "comb_table['win_percent'] = comb_table['win_percent'] / (comb_table['win_percent'].max())\n",
    "comb_table['margin'] = (comb_table['margin'] - offset) / ((comb_table['margin'].max()) - offset)\n",
    "comb_table['total_games'] = comb_table['total_games'] / (comb_table['total_games'].max())\n",
    "comb_table['opp_str'] = comb_table['opp_str'] / (comb_table['opp_str'].max())"
   ]
  },
  {
   "cell_type": "code",
   "execution_count": 421,
   "id": "attractive-approach",
   "metadata": {},
   "outputs": [],
   "source": [
    "comb_table['total'] = (comb_table['win_percent'] + comb_table['margin'] + comb_table['total_games'] + comb_table['opp_str']) / 4"
   ]
  },
  {
   "cell_type": "code",
   "execution_count": 422,
   "id": "neither-compensation",
   "metadata": {},
   "outputs": [],
   "source": [
    "new_order = ['total','win_percent','margin','total_games','opp_str']\n",
    "comb_table = comb_table.reindex(columns = new_order)"
   ]
  },
  {
   "cell_type": "code",
   "execution_count": 423,
   "id": "suburban-caution",
   "metadata": {},
   "outputs": [],
   "source": [
    "comb_table = comb_table.sort_values('total',ascending = False).head(10)"
   ]
  },
  {
   "cell_type": "code",
   "execution_count": 424,
   "id": "radio-prompt",
   "metadata": {},
   "outputs": [],
   "source": [
    "comb_table.to_csv('ques_3.csv')"
   ]
  },
  {
   "cell_type": "code",
   "execution_count": 425,
   "id": "asian-japan",
   "metadata": {},
   "outputs": [],
   "source": [
    "pd.melt(comb_table,ignore_index=False).to_csv('ques_3.csv')"
   ]
  },
  {
   "cell_type": "code",
   "execution_count": null,
   "id": "transparent-condition",
   "metadata": {},
   "outputs": [],
   "source": []
  }
 ],
 "metadata": {
  "kernelspec": {
   "display_name": "Python 3",
   "language": "python",
   "name": "python3"
  },
  "language_info": {
   "codemirror_mode": {
    "name": "ipython",
    "version": 3
   },
   "file_extension": ".py",
   "mimetype": "text/x-python",
   "name": "python",
   "nbconvert_exporter": "python",
   "pygments_lexer": "ipython3",
   "version": "3.7.9"
  }
 },
 "nbformat": 4,
 "nbformat_minor": 5
}
